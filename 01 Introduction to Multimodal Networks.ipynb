{
 "cells": [
  {
   "cell_type": "markdown",
   "metadata": {},
   "source": [
    "# 01 Introduction to Multimodal Networks\n",
    "\n",
    "## Motivation\n",
    "\n",
    "With the diverse range of *large, complex and heterogeneous biological networks* collected from various sources, new biological and medical insights can be gained by synthesizing this data and analyzing relationships between them. Representing this vast diverse biological data can be a challenge, both because there is a large amount of data and because the data may contain many types of relationships between several types of biological entities that are represented differently in each database. In network science, **multimodal networks** are a formalism to construct, represent, and model heterogenous relationships between biological entities integrated from many databases.\n",
    "\n",
    "## What are Multimodal Networks?\n",
    "\n",
    "A multimodal network generalizes the traditional graph or network representation. It consists of several sets of nodes, called **modes,** where each mode corresponds to a single entity type, such as genes or diseases. Modes are connected by sets of edges, called **links,** where each link can relate two different modes or one mode with itself. These edges can represent arbitrary relationships between nodes.\n",
    "\n",
    "In multimodal networks, each set of nodes, or a mode, corresponds to a biological entity, like genes, proteins, or chemicals, and each edge represents some relationship between biological entities. By associating **attributes with edges**, we are able to represent richer relationships, including different types of relationships as well as different confidences in the relationships. It is also possible to **associate attributes with nodes**. A basic structure of a multimodal biological network with six modes and six links is shown in the figure below.\n",
    "\n",
    "<img src=\"figures/mambo-multimodal.png\" alt=\"Multimodal Network Figure\" style=\"width: 700px;\"/>\n",
    "\n",
    "Multimodal networks are especially appropriate to represent biologcal systems, since biological networks are often obtained by integrating data from various databases. Using the richer representation of multimodal networks, we can integrate diverse data from many data sources. The constructed multimodal networks can then be used to perform bionformatics and computational biology analytics. \n",
    "\n",
    "## What is Mambo?\n",
    "\n",
    "**Mambo is a tool for construction, representation, and analysis of very large multimodal networks in biology**. Mambo is built on top of [SNAP](http://snap.stanford.edu), a network analysis and graph mining library written in C++. Mambo easily scales to *millions of nodes and billions of edges*, and supports *thousands of different modes, or entity types, and links, or relationship types*. Mambo uses a Python interface, which allows for the optimized performance of the C++ library while also allowing researchers to use most of the functionality from Python, which is easier and more flexible to use.\n",
    "\n",
    "### Prerequisites\n",
    "\n",
    "* **_Python 2.7_**: Python 2. download and setup instructions are available at: https://www.python.org/download/releases/2.7.\n",
    "* **_Jupyter_**: Mambo uses Jupyter Notebooks as its user interface. Instructions on how to setup and use Jupyter are available at: https://jupyter.readthedocs.io/en/latest/install.html.\n",
    "    \n",
    "* **_Snap.py_**: Snap.py is available for Mac OS X, Windows 64-bit, and Linux. The downloaded and setup instructions are available at: https://snap.stanford.edu/snappy.\n",
    "\n",
    "## System Overview of Mambo \n",
    "\n",
    "There are seven basic steps to follow when using Mambo:\n",
    "\n",
    "1. Collect structured data from a variety of sources including wetlab experiments and knowledge databases.\n",
    "2. Specify mappings by providing controlled vocabularies for biological entities. If there are multiple naming schemes for entities in the same mode, provide a mapping between the naming schemes, if desired. \n",
    "3. Construct mode tables by providing nodes for each mode.\n",
    "4. Specify relationships by providing data for relationships between nodes.\n",
    "5. Construct link tables by providing tables representing these relationships.\n",
    "6. Optimize the network representation.\n",
    "7. Perform network analytics and inference.\n",
    "\n",
    "Each of these steps is detailed in the following iPython notebooks in this tutorial.\n",
    "\n",
    "<img src=\"figures/system.png\" alt=\"Workflow Figure\" style=\"width: 700px;\"/>"
   ]
  }
 ],
 "metadata": {
  "anaconda-cloud": {},
  "kernelspec": {
   "display_name": "Python 2",
   "language": "python",
   "name": "python2"
  },
  "language_info": {
   "codemirror_mode": {
    "name": "ipython",
    "version": 2
   },
   "file_extension": ".py",
   "mimetype": "text/x-python",
   "name": "python",
   "nbconvert_exporter": "python",
   "pygments_lexer": "ipython2",
   "version": "2.7.13"
  }
 },
 "nbformat": 4,
 "nbformat_minor": 1
}
