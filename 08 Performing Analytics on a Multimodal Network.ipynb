{
 "cells": [
  {
   "cell_type": "markdown",
   "metadata": {
    "collapsed": true
   },
   "source": [
    "# 08 Performing Analytics on a Multimodal Cancer Network\n",
    "\n",
    "Mambo is built on top os [SNAP platform](http://snap.stanford.edu/) and can leverage [state-of-the-art large-scale network analytics methods provided by SNAP](http://snap.stanford.edu/proj/snap-www/). \n",
    "\n",
    "To perform analytics, we first convert the multimodal network into a directed graph (TNGraph), an undirected graph (TUNGraph), or a network (TNEANet), depending on the desired analysis. We then conduct the analyss and run machine learning algorithms on the converted graph. \n",
    "\n",
    "TUNGraph, TNGraph, and TNEGraph are three main graph types in SNAP, the library upon which Mambo is built:\n",
    "\n",
    "* [TUNGraph](https://snap.stanford.edu/snappy/doc/reference/graphs.html#tungraph) is an undirected graph (single edge between a pair of nodes), \n",
    "* [TNGraph](https://snap.stanford.edu/snappy/doc/reference/graphs.html#tngraph) is a directed graph (single directed edge between a pair of nodes),\n",
    "* [TNEGraph](https://snap.stanford.edu/snap/doc/snapuser-ref/de/de8/classTNEGraph.html) is a directed multi-graph (multiple directed edges between a pair of nodes).\n",
    "\n",
    "The fourth graph type is [TNEANet](https://snap.stanford.edu/snap/doc/snapuser-ref/d6/db6/classTNEANet.html), which is similar to TNEGraph but also allows attributes on nodes and edges. "
   ]
  },
  {
   "cell_type": "code",
   "execution_count": 4,
   "metadata": {},
   "outputs": [],
   "source": [
    "import snap\n",
    "import time\n",
    "\n",
    "from utils.network_utils import get_num_elem_per_mode"
   ]
  },
  {
   "cell_type": "markdown",
   "metadata": {},
   "source": [
    "### We begin by loading the multimodal cancer network from the file"
   ]
  },
  {
   "cell_type": "code",
   "execution_count": 5,
   "metadata": {},
   "outputs": [],
   "source": [
    "# This network was constructed and saved to a file in notebook:\n",
    "# 06 Constructing a Multimodal Network from Mode and Link Tables\n",
    "filename = \"output/cancer_example/cancer_example.graph\"\n",
    "FIn = snap.TFIn(filename)\n",
    "Graph = snap.TMMNet.Load(FIn)"
   ]
  },
  {
   "cell_type": "markdown",
   "metadata": {},
   "source": [
    "### Print the number of modes and links to check the network has been loaded correctly"
   ]
  },
  {
   "cell_type": "code",
   "execution_count": 30,
   "metadata": {},
   "outputs": [
    {
     "name": "stdout",
     "output_type": "stream",
     "text": [
      "Modes: 5\n",
      "Link types: 32\n"
     ]
    }
   ],
   "source": [
    "print 'Modes: %d' % Graph.GetModeNets()\n",
    "print 'Link types: %d' % Graph.GetCrossNets()"
   ]
  },
  {
   "cell_type": "markdown",
   "metadata": {},
   "source": [
    "### Convert the network into a directed network"
   ]
  },
  {
   "cell_type": "code",
   "execution_count": 11,
   "metadata": {},
   "outputs": [
    {
     "name": "stdout",
     "output_type": "stream",
     "text": [
      "Converting to TNEANet  takes 3.14202690125 seconds\n"
     ]
    }
   ],
   "source": [
    "crossnetids = snap.TIntV()\n",
    "crossneti = Graph.BegCrossNetI()\n",
    "while crossneti < Graph.EndCrossNetI():\n",
    "    crossnetids.Add(crossneti.GetCrossId())\n",
    "    crossneti.Next()\n",
    "        \n",
    "nodeattrmapping = snap.TIntStrStrTrV()\n",
    "edgeattrmapping = snap.TIntStrStrTrV()\n",
    "    \n",
    "start_time = time.time()\n",
    "DirectedNetwork = Graph.ToNetwork(crossnetids, nodeattrmapping, edgeattrmapping)\n",
    "end_time = time.time()\n",
    "print \"Converting to TNEANet  takes %s seconds\" % (end_time - start_time)"
   ]
  },
  {
   "cell_type": "markdown",
   "metadata": {},
   "source": [
    "### Analyze the resulting network, first print basic network statistics"
   ]
  },
  {
   "cell_type": "code",
   "execution_count": 17,
   "metadata": {},
   "outputs": [],
   "source": [
    "snap.PrintInfo(DirectedNetwork, \"Python type PNEANet\", \"output/output.txt\", False)"
   ]
  },
  {
   "cell_type": "code",
   "execution_count": 22,
   "metadata": {},
   "outputs": [
    {
     "data": {
      "text/plain": [
       "['Python type PNEANet: Directed Multigraph',\n",
       " '  Nodes:                    24119',\n",
       " '  Edges:                    1805297',\n",
       " '  Zero Deg Nodes:           9744',\n",
       " '  Zero InDeg Nodes:         18300',\n",
       " '  Zero OutDeg Nodes:        10590',\n",
       " '  NonZero In-Out Deg Nodes: 4973',\n",
       " '  Unique directed edges:    900672',\n",
       " '  Unique undirected edges:  892822',\n",
       " '  Self Edges:               0',\n",
       " '  BiDir Edges:              19756',\n",
       " '  Closed triangles:         446625',\n",
       " '  Open triangles:           786261314',\n",
       " '  Frac. of closed triads:   0.000568',\n",
       " '  Connected component size: 0.537543',\n",
       " '  Strong conn. comp. size:  0.018823',\n",
       " '  Approx. full diameter:    13',\n",
       " '  90% effective diameter:  5.025004']"
      ]
     },
     "execution_count": 22,
     "metadata": {},
     "output_type": "execute_result"
    }
   ],
   "source": [
    "map(lambda x: x.replace(\"\\n\", \"\"), open(\"output/output.txt\").readlines())"
   ]
  },
  {
   "cell_type": "markdown",
   "metadata": {},
   "source": [
    "### Calculate network diameter"
   ]
  },
  {
   "cell_type": "code",
   "execution_count": 23,
   "metadata": {},
   "outputs": [
    {
     "name": "stdout",
     "output_type": "stream",
     "text": [
      "Diameter 10\n"
     ]
    }
   ],
   "source": [
    "print \"Diameter %d\" % snap.GetBfsFullDiam(DirectedNetwork, 10)"
   ]
  },
  {
   "cell_type": "markdown",
   "metadata": {},
   "source": [
    "### Compute size distribution of weakly connected components (WCCs)"
   ]
  },
  {
   "cell_type": "code",
   "execution_count": 25,
   "metadata": {},
   "outputs": [
    {
     "name": "stdout",
     "output_type": "stream",
     "text": [
      "WCC Size\tCount\n",
      "1\t\t9744\n",
      "2\t\t6\n",
      "3\t\t1\n",
      "15\t\t1\n",
      "471\t\t1\n",
      "909\t\t1\n",
      "12965\t\t1\n",
      "\n"
     ]
    }
   ],
   "source": [
    "CntV = snap.TIntPrV()\n",
    "snap.GetWccSzCnt(DirectedNetwork, CntV)\n",
    "sizestring = \"\"\n",
    "for p in CntV:\n",
    "    sizestring += \"%d\\t\\t%d\\n\" % (p.GetVal1(), p.GetVal2())\n",
    "print 'WCC Size\\tCount'\n",
    "print sizestring"
   ]
  },
  {
   "cell_type": "markdown",
   "metadata": {},
   "source": [
    "## Network Science Analytics and Machine Learning on Graphs\n",
    "\n",
    "Mambo provides [a variety of other network analytics methods](https://snap.stanford.edu/snappy/doc/reference/index-ref.html), which are available through SNAP. \n",
    "\n",
    "Prominent examples include: \n",
    "* **Connected components**\n",
    "* **Breadth and depth first search**\n",
    "* **Node centrality measures**\n",
    "* **Network community detection**\n",
    "* **Triads and clustering coefficient**\n",
    "* **K-core computations**\n",
    "* **Approximate neighborhoods**\n",
    "* **Eigen and singular value decomposition**\n",
    "\n",
    "[Reference manual](https://snap.stanford.edu/snappy/doc/reference/index-ref.html) provides code documentation, tutorials and examples of usage. "
   ]
  }
 ],
 "metadata": {
  "anaconda-cloud": {},
  "kernelspec": {
   "display_name": "Python 2",
   "language": "python",
   "name": "python2"
  },
  "language_info": {
   "codemirror_mode": {
    "name": "ipython",
    "version": 2
   },
   "file_extension": ".py",
   "mimetype": "text/x-python",
   "name": "python",
   "nbconvert_exporter": "python",
   "pygments_lexer": "ipython2",
   "version": "2.7.13"
  }
 },
 "nbformat": 4,
 "nbformat_minor": 1
}
