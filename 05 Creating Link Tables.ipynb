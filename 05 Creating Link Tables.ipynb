{
 "cells": [
  {
   "cell_type": "markdown",
   "metadata": {
    "collapsed": true
   },
   "source": [
    "# 05 Creating Link Tables for the Multimodal Cancer Network\n",
    "\n",
    "In this notebook, we step through the construction of link type tables. There are 11 link types in the multimodal cancer network: \n",
    "\n",
    "<center>\n",
    "**Chemical-Chemical, Chemical-Protein, Disease-Chemical, Disease-Disease, Disease-Function, Disease-Protein, Function-Function, Gene-Gene, Gene-Protein, Protein-Function,** and **Protein-Protein.**\n",
    "</center>\n",
    "    \n",
    "We start by importing the required Python packages and setting up the date string to match the date to ``today``."
   ]
  },
  {
   "cell_type": "code",
   "execution_count": 1,
   "metadata": {
    "scrolled": true
   },
   "outputs": [],
   "source": [
    "import os\n",
    "import datetime\n",
    "\n",
    "from utils.create_mambo_crossnet_table import create_mambo_crossnet_table\n",
    "\n",
    "today = datetime.date.today()\n",
    "datestring = \"%s%s%s\" % (today.year, today.month, today.day)"
   ]
  },
  {
   "cell_type": "markdown",
   "metadata": {},
   "source": [
    "## Create Chemical-Chemical Link Tables\n",
    "\n",
    "Information on Chemical-Chemical link type is retrieved from the [DrugBank database](https://www.drugbank.ca/), which relates DrugBank IDs to each other."
   ]
  },
  {
   "cell_type": "code",
   "execution_count": 2,
   "metadata": {
    "scrolled": false
   },
   "outputs": [
    {
     "name": "stdout",
     "output_type": "stream",
     "text": [
      "Starting at mambo id: 0\n",
      "Ending at mambo id: 3648\n"
     ]
    }
   ],
   "source": [
    "filepath = \"datasets/cancer_example/chemical-chemical/drugbank_parsed_chemical_chemical.tsv\"\n",
    "srcfile = \"datasets/cancer_example/chemical/miner-chemical-0-drugbank-%s.tsv\" % datestring\n",
    "dstfile = \"datasets/cancer_example/chemical/miner-chemical-0-drugbank-%s.tsv\" % datestring \n",
    "datasetname = \"DrugBank\" \n",
    "dbid = 0\n",
    "outputdir = \"datasets/cancer_example/chemical-chemical/\"\n",
    "srcindex = 0\n",
    "dstindex = 1\n",
    "\n",
    "create_mambo_crossnet_table(input_file=filepath, \n",
    "                           src_file=srcfile, \n",
    "                           dst_file=dstfile, \n",
    "                           dataset_name=datasetname,\n",
    "                           db_id=dbid, \n",
    "                           src_node_index=srcindex, \n",
    "                           dst_node_index=dstindex, \n",
    "                           mode_name1=None,\n",
    "                           mode_name2=None, \n",
    "                           output_dir=outputdir, \n",
    "                           full_crossnet_file=None, \n",
    "                           db_edge_file=None,\n",
    "                           src_mode_filter=None, \n",
    "                           dst_mode_filter=None, \n",
    "                           mambo_id_counter_start=-1,\n",
    "                           skip_missing_ids=False,\n",
    "                           verbose=True)"
   ]
  },
  {
   "cell_type": "markdown",
   "metadata": {},
   "source": [
    "## Create Chemical-Protein Link Tables\n",
    "\n",
    "Information on Chemical-Protein link type is retrieved from the DrugBank database, which relates DrugBank IDs to Uniprot IDs based on [drug target information](https://www.drugbank.ca/targets)."
   ]
  },
  {
   "cell_type": "code",
   "execution_count": 3,
   "metadata": {},
   "outputs": [
    {
     "name": "stdout",
     "output_type": "stream",
     "text": [
      "Starting at mambo id: 0\n",
      "Ending at mambo id: 531\n"
     ]
    }
   ],
   "source": [
    "filepath = \"datasets/cancer_example/chemical-protein/drugbank_parsed_chemical_protein.tsv\"\n",
    "srcfile = \"datasets/cancer_example/chemical/miner-chemical-0-drugbank-%s.tsv\" % datestring\n",
    "dstfile = \"datasets/cancer_example/protein/miner-protein-1-GO_UNIPROT-%s.tsv\" % datestring \n",
    "datasetname = \"DrugBank\" \n",
    "dbid = 0\n",
    "outputdir = \"datasets/cancer_example/chemical-protein/\"\n",
    "srcindex = 0\n",
    "dstindex = 1\n",
    "\n",
    "create_mambo_crossnet_table(input_file=filepath, \n",
    "                           src_file=srcfile, \n",
    "                           dst_file=dstfile, \n",
    "                           dataset_name=datasetname,\n",
    "                           db_id=dbid, \n",
    "                           src_node_index=srcindex, \n",
    "                           dst_node_index=dstindex, \n",
    "                           mode_name1=None,\n",
    "                           mode_name2=None, \n",
    "                           output_dir=outputdir, \n",
    "                           full_crossnet_file=None, \n",
    "                           db_edge_file=None,\n",
    "                           src_mode_filter=None, \n",
    "                           dst_mode_filter=None, \n",
    "                           mambo_id_counter_start=-1,\n",
    "                           skip_missing_ids=True,\n",
    "                           verbose=True)"
   ]
  },
  {
   "cell_type": "markdown",
   "metadata": {},
   "source": [
    "## Create Disease-Chemical Link Tables\n",
    "\n",
    "Information on Disease-Chemical link type is retrieved from the [CTD database](http://ctdbase.org), which relates MESH and OMIM IDs to DrugBank IDs based on the [published literature and the CTD biocurators](http://ctdbase.org/about/). For example, diseases associated with arsenic include: arsenic poisoning, prostatic neoplasms, skin diseases, and myocardial ischemia."
   ]
  },
  {
   "cell_type": "code",
   "execution_count": 4,
   "metadata": {},
   "outputs": [
    {
     "name": "stdout",
     "output_type": "stream",
     "text": [
      "Starting at mambo id: 0\n",
      "Ending at mambo id: 261182\n",
      "Starting at mambo id: 261182\n",
      "Ending at mambo id: 261896\n"
     ]
    }
   ],
   "source": [
    "filepath = \"datasets/cancer_example/disease-chemical/ctd_disease_chem_parsed.tsv\"\n",
    "srcfile = \"datasets/cancer_example/disease/miner-disease-3-CTD_MESH-%s.tsv\" % datestring\n",
    "dstfile = \"datasets/cancer_example/chemical/miner-chemical-0-drugbank-%s.tsv\" % datestring\n",
    "datasetname = \"CTD_MESH\" \n",
    "dbid = 0\n",
    "outputdir = \"datasets/cancer_example/disease-chemical/\"\n",
    "srcindex = 0\n",
    "dstindex = 1\n",
    "\n",
    "create_mambo_crossnet_table(input_file=filepath, \n",
    "                           src_file=srcfile, \n",
    "                           dst_file=dstfile, \n",
    "                           dataset_name=datasetname,\n",
    "                           db_id=0, \n",
    "                           src_node_index=0, \n",
    "                           dst_node_index=1, \n",
    "                           mode_name1=None,\n",
    "                           mode_name2=None, \n",
    "                           output_dir=outputdir, \n",
    "                           full_crossnet_file=None, \n",
    "                           db_edge_file=None,\n",
    "                           src_mode_filter=None, \n",
    "                           dst_mode_filter=None, \n",
    "                           mambo_id_counter_start=-1,\n",
    "                           skip_missing_ids=True,\n",
    "                           verbose=True)\n",
    "\n",
    "srcfile = \"datasets/cancer_example/disease/miner-disease-2-CTD_OMIM-%s.tsv\" % datestring\n",
    "datasetname = \"CTD_OMIM\" \n",
    "dbid = 1\n",
    "\n",
    "create_mambo_crossnet_table(input_file=filepath, \n",
    "                           src_file=srcfile, \n",
    "                           dst_file=dstfile, \n",
    "                           dataset_name=datasetname,\n",
    "                           db_id=0, \n",
    "                           src_node_index=0, \n",
    "                           dst_node_index=1, \n",
    "                           mode_name1=None,\n",
    "                           mode_name2=None, \n",
    "                           output_dir=outputdir, \n",
    "                           full_crossnet_file=None, \n",
    "                           db_edge_file=None,\n",
    "                           src_mode_filter=None, \n",
    "                           dst_mode_filter=None, \n",
    "                           mambo_id_counter_start=-1,\n",
    "                           skip_missing_ids=True,\n",
    "                           verbose=True)"
   ]
  },
  {
   "cell_type": "markdown",
   "metadata": {},
   "source": [
    "## Create Disease-Disease Link Tables\n",
    "\n",
    "Information on Disease-Disease link type is retrieved from [Disease Ontology](http://disease-ontology.org/), which relates Disease Ontology IDs to each other based on anatomical organization of organs and tissues affected by the corresponding disease. For example, carotenemia (DOID:9969) and hyperuricemia (DOID:1920) are both acquired metabolic diseases."
   ]
  },
  {
   "cell_type": "code",
   "execution_count": 5,
   "metadata": {},
   "outputs": [
    {
     "name": "stdout",
     "output_type": "stream",
     "text": [
      "Starting at mambo id: 0\n",
      "Ending at mambo id: 6357\n"
     ]
    }
   ],
   "source": [
    "filepath = \"datasets/cancer_example/disease-disease/doid_disease_disease_parsed.tsv\"\n",
    "srcfile = \"datasets/cancer_example/disease/miner-disease-0-DO-%s.tsv\" % datestring\n",
    "dstfile = \"datasets/cancer_example/disease/miner-disease-0-DO-%s.tsv\" % datestring\n",
    "datasetname = \"DO\" \n",
    "dbid = 0\n",
    "outputdir = \"datasets/cancer_example/disease-disease/\"\n",
    "srcindex = 0\n",
    "dstindex = 1\n",
    "\n",
    "create_mambo_crossnet_table(input_file=filepath, \n",
    "                           src_file=srcfile, \n",
    "                           dst_file=dstfile, \n",
    "                           dataset_name=datasetname,\n",
    "                           db_id=dbid, \n",
    "                           src_node_index=srcindex, \n",
    "                           dst_node_index=dstindex, \n",
    "                           mode_name1=None,\n",
    "                           mode_name2=None, \n",
    "                           output_dir=outputdir, \n",
    "                           full_crossnet_file=None, \n",
    "                           db_edge_file=None,\n",
    "                           src_mode_filter=None, \n",
    "                           dst_mode_filter=None, \n",
    "                           mambo_id_counter_start=-1,\n",
    "                           skip_missing_ids=False,\n",
    "                           verbose=True)"
   ]
  },
  {
   "cell_type": "markdown",
   "metadata": {},
   "source": [
    "## Create Disease-Function Link Tables\n",
    "\n",
    "Information on Disease-Function link type is retrieved from the [CTD database](http://ctdbase.org/about/), which relates MESH IDs to Gene Ontology IDs based on cellular functions, processes, and components involved in disease development and progression."
   ]
  },
  {
   "cell_type": "code",
   "execution_count": 6,
   "metadata": {},
   "outputs": [
    {
     "name": "stdout",
     "output_type": "stream",
     "text": [
      "Starting at mambo id: 0\n",
      "Ending at mambo id: 361916\n"
     ]
    }
   ],
   "source": [
    "filepath = \"datasets/cancer_example/disease-function/ctd_disease_func_parsed.tsv\"\n",
    "srcfile = \"datasets/cancer_example/disease/miner-disease-3-CTD_MESH-%s.tsv\" % datestring\n",
    "dstfile = \"datasets/cancer_example/function/miner-function-0-GO-%s.tsv\" % datestring\n",
    "datasetname = \"CTD_MESH\" \n",
    "dbid = 0\n",
    "outputdir = \"datasets/cancer_example/disease-function/\"\n",
    "srcindex = 0\n",
    "dstindex = 1\n",
    "\n",
    "create_mambo_crossnet_table(input_file=filepath, \n",
    "                           src_file=srcfile, \n",
    "                           dst_file=dstfile, \n",
    "                           dataset_name=datasetname,\n",
    "                           db_id=dbid, \n",
    "                           src_node_index=srcindex, \n",
    "                           dst_node_index=dstindex, \n",
    "                           mode_name1=None,\n",
    "                           mode_name2=None, \n",
    "                           output_dir=outputdir, \n",
    "                           full_crossnet_file=None, \n",
    "                           db_edge_file=None,\n",
    "                           src_mode_filter=None, \n",
    "                           dst_mode_filter=None, \n",
    "                           mambo_id_counter_start=-1,\n",
    "                           skip_missing_ids=False,\n",
    "                           verbose=True)"
   ]
  },
  {
   "cell_type": "markdown",
   "metadata": {},
   "source": [
    "## Create Disease-Protein Link Tables\n",
    "\n",
    "Information on Disease-Protein link type is retrieved from the [CTD database](http://ctdbase.org/about/), which relates diseases (encoded by MESH and OMIM IDs) to proteins (encoded by Uniprot IDs). We construct a separate table for MESH IDs and OMIM IDs."
   ]
  },
  {
   "cell_type": "code",
   "execution_count": 7,
   "metadata": {},
   "outputs": [
    {
     "name": "stdout",
     "output_type": "stream",
     "text": [
      "Starting at mambo id: 0\n",
      "Ending at mambo id: 950171\n",
      "Starting at mambo id: 950171\n",
      "Ending at mambo id: 950541\n"
     ]
    }
   ],
   "source": [
    "filepath = \"datasets/cancer_example/disease-protein/ctd_disease_protein_parsed.tsv\"\n",
    "srcfile = \"datasets/cancer_example/disease/miner-disease-3-CTD_MESH-%s.tsv\" % datestring\n",
    "dstfile = \"datasets/cancer_example/protein/miner-protein-1-GO_UNIPROT-%s.tsv\" % datestring \n",
    "datasetname = \"CTD_MESH\" \n",
    "dbid = 0\n",
    "outputdir = \"datasets/cancer_example/disease-protein/\"\n",
    "srcindex = 0\n",
    "dstindex = 1\n",
    "\n",
    "create_mambo_crossnet_table(input_file=filepath, \n",
    "                           src_file=srcfile, \n",
    "                           dst_file=dstfile, \n",
    "                           dataset_name=datasetname,\n",
    "                           db_id=0, \n",
    "                           src_node_index=0, \n",
    "                           dst_node_index=1, \n",
    "                           mode_name1=None,\n",
    "                           mode_name2=None, \n",
    "                           output_dir=outputdir, \n",
    "                           full_crossnet_file=None, \n",
    "                           db_edge_file=None,\n",
    "                           src_mode_filter=None, \n",
    "                           dst_mode_filter=None, \n",
    "                           mambo_id_counter_start=-1,\n",
    "                           skip_missing_ids=True,\n",
    "                           verbose=True)\n",
    "\n",
    "srcfile = \"datasets/cancer_example/disease/miner-disease-2-CTD_OMIM-%s.tsv\" % datestring\n",
    "datasetname = \"CTD_OMIM\" \n",
    "dbid = 1\n",
    "\n",
    "create_mambo_crossnet_table(input_file=filepath, \n",
    "                           src_file=srcfile, \n",
    "                           dst_file=dstfile, \n",
    "                           dataset_name=datasetname,\n",
    "                           db_id=0, \n",
    "                           src_node_index=0, \n",
    "                           dst_node_index=1, \n",
    "                           mode_name1=None,\n",
    "                           mode_name2=None, \n",
    "                           output_dir=outputdir, \n",
    "                           full_crossnet_file=None, \n",
    "                           db_edge_file=None,\n",
    "                           src_mode_filter=None, \n",
    "                           dst_mode_filter=None, \n",
    "                           mambo_id_counter_start=-1,\n",
    "                           skip_missing_ids=True,\n",
    "                           verbose=True)"
   ]
  },
  {
   "cell_type": "markdown",
   "metadata": {},
   "source": [
    "## Create Function-Function Link Tables\n",
    "\n",
    "Information on Function-Function link type is retrieved from [Gene Ontology](http://geneontology.org/), which relates Gene Ontology terms to Gene Ontology terms based on their [ontological distance in Gene Ontology](http://geneontology.org/page/ontology-documentation). For example, broad biological process terms are \"cellular physiological process\" or \"signal transduction\". Examples of more specific terms are \"pyrimidine metabolic process\" or \"alpha-glucoside transport\"."
   ]
  },
  {
   "cell_type": "code",
   "execution_count": 8,
   "metadata": {},
   "outputs": [
    {
     "name": "stdout",
     "output_type": "stream",
     "text": [
      "Starting at mambo id: 0\n",
      "Ending at mambo id: 2613\n"
     ]
    }
   ],
   "source": [
    "filepath = \"datasets/cancer_example/function-function/go_parsed.tsv\"\n",
    "srcfile = \"datasets/cancer_example/function/miner-function-0-GO-%s.tsv\" % datestring\n",
    "dstfile = \"datasets/cancer_example/function/miner-function-0-GO-%s.tsv\" % datestring\n",
    "datasetname = \"GO\" \n",
    "dbid = 0\n",
    "outputdir = \"datasets/cancer_example/function-function/\"\n",
    "srcindex = 0\n",
    "dstindex = 1\n",
    "\n",
    "create_mambo_crossnet_table(input_file=filepath, \n",
    "                           src_file=srcfile, \n",
    "                           dst_file=dstfile, \n",
    "                           dataset_name=datasetname,\n",
    "                           db_id=dbid, \n",
    "                           src_node_index=srcindex, \n",
    "                           dst_node_index=dstindex, \n",
    "                           mode_name1=None,\n",
    "                           mode_name2=None, \n",
    "                           output_dir=outputdir, \n",
    "                           full_crossnet_file=None, \n",
    "                           db_edge_file=None,\n",
    "                           src_mode_filter=None, \n",
    "                           dst_mode_filter=None, \n",
    "                           mambo_id_counter_start=-1,\n",
    "                           skip_missing_ids=False,\n",
    "                           verbose=True)"
   ]
  },
  {
   "cell_type": "markdown",
   "metadata": {},
   "source": [
    "## Create Gene-Gene Link Tables\n",
    "\n",
    "Information on Gene-Gene link type is retrieved from [GeneMANIA](http://genemania.org/), which relates ENSEMBL Gene IDs to ENSEMBL Gene IDs based on various types of functional interactions between genes, such as co-pathway membership, co-localization, co-expression, and physical protein interaction. "
   ]
  },
  {
   "cell_type": "code",
   "execution_count": 9,
   "metadata": {},
   "outputs": [],
   "source": [
    "types = [\"Co-expression\", \"Co-localization\", \"Genetic_interactions\", \"Pathway\", \"Physical_interactions\", \"Predicted\"]\n",
    "base_dir = \"datasets/cancer_example/gene-gene/\"\n",
    "directory = \"datasets/cancer_example/gene-gene/genemania_data/\"\n",
    "srcfile = \"datasets/cancer_example/gene/miner-gene-0-ICGC-%s.tsv\" % datestring\n",
    "dstfile = \"datasets/cancer_example/gene/miner-gene-0-ICGC-%s.tsv\" % datestring \n",
    "\n",
    "typecount = {\"Co-localization\" : 0, \n",
    "             \"Co-expression\" : 0,\n",
    "             \"Genetic_interactions\" : 0,\n",
    "             \"Pathway\" : 0,\n",
    "             \"Physical_interactions\" : 0,\n",
    "             \"Predicted\" : 0}\n",
    "dirname = {\"Co-localization\" : \"colocalization_links\", \n",
    "           \"Co-expression\" : \"coexpression_links\",\n",
    "           \"Genetic_interactions\" : \"genetic_interactions_links\",\n",
    "           \"Pathway\": \"pathway_links\",\n",
    "           \"Physical_interactions\" : \"physical_interactions_links\",\n",
    "           \"Predicted\" : \"predicted_links\"}\n",
    "\n",
    "for d in dirname.values():\n",
    "    new_dir = os.path.join(base_dir, d)\n",
    "    if not os.path.exists(new_dir):\n",
    "        os.makedirs(new_dir)\n",
    "\n",
    "for filename in os.listdir(directory):\n",
    "    if any(typename in filename for typename in types):\n",
    "        filepath = os.path.join(directory, filename)\n",
    "        datasetname = filename.split('.')[1]\n",
    "        filetype = filename.split('.')[0]\n",
    "        dbid = typecount[filetype]\n",
    "        outputdir = os.path.join(base_dir, dirname[filetype])\n",
    "        create_mambo_crossnet_table(input_file=filepath, \n",
    "                           src_file=srcfile, \n",
    "                           dst_file=dstfile, \n",
    "                           dataset_name=datasetname,\n",
    "                           db_id=dbid, \n",
    "                           src_node_index=0, \n",
    "                           dst_node_index=1, \n",
    "                           mode_name1=None,\n",
    "                           mode_name2=None, \n",
    "                           output_dir=outputdir, \n",
    "                           full_crossnet_file=None, \n",
    "                           db_edge_file=None,\n",
    "                           src_mode_filter=None, \n",
    "                           dst_mode_filter=None, \n",
    "                           mambo_id_counter_start=-1,\n",
    "                           skip_missing_ids=True)\n",
    "        typecount[filetype] += 1"
   ]
  },
  {
   "cell_type": "markdown",
   "metadata": {},
   "source": [
    "## Create Gene-Protein Link Tables\n",
    "\n",
    "Information on Gene-Protein link type is retrieved from GeneMANIA and [Biomart](http://www.biomart.org/), which both relate ENSEMBL Gene IDs to ENSEMBL Protein IDs."
   ]
  },
  {
   "cell_type": "code",
   "execution_count": 10,
   "metadata": {},
   "outputs": [
    {
     "name": "stdout",
     "output_type": "stream",
     "text": [
      "Starting at mambo id: 0\n",
      "Ending at mambo id: 461\n"
     ]
    }
   ],
   "source": [
    "filepath = \"datasets/cancer_example/gene-protein/ensembl_mapping.tsv\"\n",
    "srcfile = \"datasets/cancer_example/gene/miner-gene-0-ICGC-%s.tsv\" % datestring\n",
    "dstfile = \"datasets/cancer_example/protein/miner-protein-0-STRING-%s.tsv\" % datestring\n",
    "datasetname = \"ENSEMBL\" \n",
    "dbid = 0\n",
    "outputdir = \"datasets/cancer_example/gene-protein/\"\n",
    "srcindex = 0\n",
    "dstindex = 1\n",
    "\n",
    "create_mambo_crossnet_table(input_file=filepath, \n",
    "                           src_file=srcfile, \n",
    "                           dst_file=dstfile, \n",
    "                           dataset_name=datasetname,\n",
    "                           db_id=dbid, \n",
    "                           src_node_index=srcindex, \n",
    "                           dst_node_index=dstindex, \n",
    "                           mode_name1=None,\n",
    "                           mode_name2=None, \n",
    "                           output_dir=outputdir, \n",
    "                           full_crossnet_file=None, \n",
    "                           db_edge_file=None,\n",
    "                           src_mode_filter=None, \n",
    "                           dst_mode_filter=None, \n",
    "                           mambo_id_counter_start=-1,\n",
    "                           skip_missing_ids=True,\n",
    "                           verbose=True)"
   ]
  },
  {
   "cell_type": "markdown",
   "metadata": {},
   "source": [
    "## Create Protein-Function Link Tables\n",
    "\n",
    "Information on Protein-Function link type is retrieved from [Gene Ontology](http://geneontology.org/), which relates Uniprot IDs to Gene Ontology IDs based associations of genes with cellular functions, biological processes and cellular components."
   ]
  },
  {
   "cell_type": "code",
   "execution_count": 11,
   "metadata": {},
   "outputs": [
    {
     "name": "stdout",
     "output_type": "stream",
     "text": [
      "Starting at mambo id: 0\n",
      "Ending at mambo id: 10047\n"
     ]
    }
   ],
   "source": [
    "filepath = \"datasets/cancer_example/protein-function/gene_association.goa_human\"\n",
    "srcfile = \"datasets/cancer_example/protein/miner-protein-1-GO_UNIPROT-%s.tsv\" % datestring\n",
    "dstfile = \"datasets/cancer_example/function/miner-function-0-GO-%s.tsv\" % datestring\n",
    "datasetname = \"GO\" \n",
    "dbid = 0\n",
    "outputdir = \"datasets/cancer_example/protein-function/\"\n",
    "srcindex = 1\n",
    "dstindex = 4\n",
    "\n",
    "create_mambo_crossnet_table(input_file=filepath, \n",
    "                           src_file=srcfile, \n",
    "                           dst_file=dstfile, \n",
    "                           dataset_name=datasetname,\n",
    "                           db_id=dbid, \n",
    "                           src_node_index=srcindex, \n",
    "                           dst_node_index=dstindex, \n",
    "                           mode_name1=None,\n",
    "                           mode_name2=None, \n",
    "                           output_dir=outputdir, \n",
    "                           full_crossnet_file=None, \n",
    "                           db_edge_file=None,\n",
    "                           src_mode_filter=None, \n",
    "                           dst_mode_filter=None, \n",
    "                           mambo_id_counter_start=-1,\n",
    "                           skip_missing_ids=True,\n",
    "                           verbose=True)"
   ]
  },
  {
   "cell_type": "markdown",
   "metadata": {},
   "source": [
    "## Create Protein-Protein Link Tables\n",
    "\n",
    "Information on Protein-Protein link type is retrieved from [STRING database](https://string-db.org/), which relates protein ENSEMBL IDs to protein ENSEMBL IDs based on physical protein-protein interactions, proximity in genomic sequence space, gene fusions, and other types of evidence. "
   ]
  },
  {
   "cell_type": "code",
   "execution_count": 12,
   "metadata": {},
   "outputs": [],
   "source": [
    "types = [\n",
    "'neighborhood',\n",
    "'fusion',\n",
    "'cooccurence',\n",
    "'coexpression',\n",
    "'experimental',\n",
    "'database',\n",
    "'textmining',\n",
    "'combined_score',\n",
    "]\n",
    "\n",
    "data_dir = 'datasets/cancer_example/protein-protein/string_data'\n",
    "output_dir = 'datasets/cancer_example/protein-protein/'\n",
    "srcfile = \"datasets/cancer_example/protein/miner-protein-0-STRING-%s.tsv\" % datestring\n",
    "dstfile = srcfile\n",
    "    \n",
    "for t in types:\n",
    "    new_dir = os.path.join(output_dir, t + '_links')\n",
    "    if not os.path.exists(new_dir):\n",
    "        os.makedirs(new_dir)\n",
    "\n",
    "for filename in os.listdir(data_dir):\n",
    "    filepath = os.path.join(data_dir, filename)\n",
    "    t = filename.split('-')[0]\n",
    "    outputdir = os.path.join(output_dir, t + '_links')\n",
    "    create_mambo_crossnet_table(input_file=filepath, \n",
    "                       src_file=srcfile, \n",
    "                       dst_file=dstfile, \n",
    "                       dataset_name='STRING',\n",
    "                       db_id=0, \n",
    "                       src_node_index=0, \n",
    "                       dst_node_index=1, \n",
    "                       mode_name1=None,\n",
    "                       mode_name2=None, \n",
    "                       output_dir=outputdir, \n",
    "                       full_crossnet_file=None, \n",
    "                       db_edge_file=None,\n",
    "                       src_mode_filter=None, \n",
    "                       dst_mode_filter=None, \n",
    "                       mambo_id_counter_start=-1,\n",
    "                       skip_missing_ids=True)"
   ]
  }
 ],
 "metadata": {
  "anaconda-cloud": {},
  "kernelspec": {
   "display_name": "Python 2",
   "language": "python",
   "name": "python2"
  },
  "language_info": {
   "codemirror_mode": {
    "name": "ipython",
    "version": 2
   },
   "file_extension": ".py",
   "mimetype": "text/x-python",
   "name": "python",
   "nbconvert_exporter": "python",
   "pygments_lexer": "ipython2",
   "version": "2.7.13"
  }
 },
 "nbformat": 4,
 "nbformat_minor": 1
}
