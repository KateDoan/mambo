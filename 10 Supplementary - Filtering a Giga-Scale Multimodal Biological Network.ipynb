{
 "cells": [
  {
   "cell_type": "markdown",
   "metadata": {},
   "source": [
    "# 10 Supplementary: Filtering a Giga-Scale Multimodal Biological Network\n",
    "\n"
   ]
  },
  {
   "cell_type": "markdown",
   "metadata": {},
   "source": [
    "Data is available for download from http://string-db.org/cgi/download.pl. Data files should be placed in `datasets/protein_example/string` directory located in this repository. \n",
    "\n",
    "**Note:** The most recent version of STRING database available at the time of writing this tutorial is ``STRING.v10``. Version 10 of STRING database is used throughout the notebook. \n",
    "\n",
    "## Filtering Raw Data from STRING Database\n",
    "\n",
    "This notebook shows how to construct a SNAP Table (``snap.TTable``) from a CSV data file and how to filter the table to select rows and columns that are of interest. This functionality is important for construction of cross-species protein-protein interaction (PPI) networks, where we need to filter STRING edge data based on experimental evidence supporting the edges"
   ]
  },
  {
   "cell_type": "markdown",
   "metadata": {},
   "source": [
    "Import relevant Python packages."
   ]
  },
  {
   "cell_type": "code",
   "execution_count": 2,
   "metadata": {},
   "outputs": [],
   "source": [
    "import os\n",
    "import snap"
   ]
  },
  {
   "cell_type": "markdown",
   "metadata": {},
   "source": [
    "Specify where the table we would like to filter is located."
   ]
  },
  {
   "cell_type": "code",
   "execution_count": 3,
   "metadata": {},
   "outputs": [],
   "source": [
    "filename = \"datasets/protein_example/string/protein.links.detailed.v10.txt\""
   ]
  },
  {
   "cell_type": "markdown",
   "metadata": {},
   "source": [
    "Specify the columns we plan to filter on, and the desired location for the resulting (filtered) table."
   ]
  },
  {
   "cell_type": "code",
   "execution_count": 4,
   "metadata": {},
   "outputs": [],
   "source": [
    "columns = [\n",
    "'neighborhood',\n",
    "'fusion',\n",
    "'cooccurence',\n",
    "'homology',\n",
    "'coexpression', \n",
    "'experiments',\n",
    "'database',\n",
    "'textmining',\n",
    "]\n",
    "\n",
    "output_dir = 'output'\n",
    "binary_output = 'result.bin'\n",
    "binary_output_path = os.path.join(output_dir, binary_output)"
   ]
  },
  {
   "cell_type": "markdown",
   "metadata": {
    "collapsed": true
   },
   "source": [
    "Set-up table schema and load the table into memory. \n",
    "\n",
    "Specify the column type for each column in the table. Types can be ``snap.atStr``, ``snap.atInt``, and ``snap.atFlt``."
   ]
  },
  {
   "cell_type": "code",
   "execution_count": null,
   "metadata": {},
   "outputs": [],
   "source": [
    "context = snap.TTableContext()\n",
    "schema = snap.Schema()\n",
    "schema.Add(snap.TStrTAttrPr(\"protein1\", snap.atStr))\n",
    "schema.Add(snap.TStrTAttrPr(\"protein2\", snap.atStr))\n",
    "schema.Add(snap.TStrTAttrPr(\"neighborhood\", snap.atInt))\n",
    "schema.Add(snap.TStrTAttrPr(\"fusion\", snap.atInt))\n",
    "schema.Add(snap.TStrTAttrPr(\"cooccurence\", snap.atInt))\n",
    "schema.Add(snap.TStrTAttrPr(\"coexpression\", snap.atInt))\n",
    "schema.Add(snap.TStrTAttrPr(\"experimental\", snap.atInt))\n",
    "schema.Add(snap.TStrTAttrPr(\"database\", snap.atInt))\n",
    "schema.Add(snap.TStrTAttrPr(\"textmining\", snap.atInt))\n",
    "schema.Add(snap.TStrTAttrPr(\"combined_score\", snap.atInt))\n",
    "full_protein_table = snap.TTable.LoadSS(schema, filename, context, \" \", snap.TBool(True))\n",
    "\n",
    "print \"Table loaded\""
   ]
  },
  {
   "cell_type": "markdown",
   "metadata": {
    "collapsed": true
   },
   "source": [
    "Filter the data.\n",
    "\n",
    "Create a separate table for each column and only include rows with non-zero scores in that column.\n",
    "\n",
    "It is also possible to select on string constants, by ``SelectAtomicStrConst()``, or float constants, by ``SelectAtomicFltConst()``, as well as the first `N` rows, by ``SelectFirstNRows()``. General predicates are available through ``Select()``."
   ]
  },
  {
   "cell_type": "code",
   "execution_count": null,
   "metadata": {
    "collapsed": true
   },
   "outputs": [],
   "source": [
    "for column in columns:\n",
    "    # Select all rows that have non-zero confidence score for this type of relation (i.e., column)\n",
    "    filtered_table = snap.TTable.New(full_protein_table.GetSchema(), snap.TTableContext())\n",
    "    full_protein_table.SelectAtomicIntConst(t, 0, snap.NEQ, filtered_table)\n",
    "    \n",
    "    # Can save in binary format\n",
    "    filtered_table.SaveBin(temp_output_path)\n",
    "    filtered_table = snap.TTable.Load(snap.TFIn(binary_output_path), context)\n",
    "    \n",
    "    # Or can save in text format\n",
    "    tsv_output_path = os.path.join(output_dir, column + \".tsv\")\n",
    "    filtered_table.SaveSS(tsv_output_path)\n",
    "    \n",
    "    print \"Saved table for column: %s\" % column"
   ]
  }
 ],
 "metadata": {
  "anaconda-cloud": {},
  "kernelspec": {
   "display_name": "Python 2",
   "language": "python",
   "name": "python2"
  },
  "language_info": {
   "codemirror_mode": {
    "name": "ipython",
    "version": 2
   },
   "file_extension": ".py",
   "mimetype": "text/x-python",
   "name": "python",
   "nbconvert_exporter": "python",
   "pygments_lexer": "ipython2",
   "version": "2.7.13"
  }
 },
 "nbformat": 4,
 "nbformat_minor": 1
}
