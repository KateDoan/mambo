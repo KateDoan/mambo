{
 "cells": [
  {
   "cell_type": "markdown",
   "metadata": {},
   "source": [
    "# 07 Loading a Multimodal Network\n",
    "\n",
    "In this notebook, we describe how to load a multimodal network from a disk into memory and how to determine network size.\n",
    "\n",
    "### Load the Network"
   ]
  },
  {
   "cell_type": "code",
   "execution_count": 1,
   "metadata": {},
   "outputs": [],
   "source": [
    "import snap\n",
    "from utils.network_utils import get_num_elem_per_mode, get_num_elem_per_link\n",
    "\n",
    "filename = \"output/cancer_example/cancer_example.graph\"\n",
    "FIn = snap.TFIn(filename)\n",
    "Graph = snap.TMMNet.Load(FIn)"
   ]
  },
  {
   "cell_type": "markdown",
   "metadata": {},
   "source": [
    "### Verify Modes in the Multimodal Network\n",
    "\n",
    "To make sure the network has been loaded correctly, let's determine the number of mode types as well as the number of entities of each mode type. "
   ]
  },
  {
   "cell_type": "code",
   "execution_count": 2,
   "metadata": {},
   "outputs": [
    {
     "name": "stdout",
     "output_type": "stream",
     "text": [
      "Modes: 5\n",
      "('chemical', 359)\n",
      "('function', 2482)\n",
      "('protein', 908)\n",
      "('gene', 500)\n",
      "('disease', 18554)\n"
     ]
    }
   ],
   "source": [
    "print 'Modes: %d' % Graph.GetModeNets()\n",
    "num_elem_per_mode = get_num_elem_per_mode(Graph)\n",
    "print '\\n'.join(map(str, num_elem_per_mode.items()))"
   ]
  },
  {
   "cell_type": "markdown",
   "metadata": {},
   "source": [
    "### Verify Link Types in the Multimodal Network\n",
    "\n",
    "Let's also determine the number of link types and the number of edges of each link type. "
   ]
  },
  {
   "cell_type": "code",
   "execution_count": 4,
   "metadata": {},
   "outputs": [
    {
     "name": "stdout",
     "output_type": "stream",
     "text": [
      "Link types: 21\n",
      "('miner-function-function', 2613)\n",
      "('miner-protein-chemical', 531)\n",
      "('pathway-gene-gene', 389)\n",
      "('coexpression-protein-protein', 1026)\n",
      "('miner-protein-gene', 461)\n",
      "('miner-protein-disease', 950541)\n",
      "('miner-chemical-chemical', 3648)\n",
      "('miner-function-disease', 361916)\n",
      "('miner-disease-disease', 6357)\n",
      "('miner-chemical-disease', 261896)\n",
      "('colocalization-gene-gene', 1108)\n",
      "('experimental-protein-protein', 2686)\n",
      "('predicted-gene-gene', 161)\n",
      "('database-protein-protein', 626)\n",
      "('cooccurence-protein-protein', 8)\n",
      "('miner-function-protein', 10047)\n",
      "('textmining-protein-protein', 11716)\n",
      "('neighborhood-protein-protein', 40)\n",
      "('physical_interactions-gene-gene', 473)\n",
      "('coexpression-gene-gene', 167433)\n",
      "('genetic_interactions-gene-gene', 21621)\n"
     ]
    }
   ],
   "source": [
    "print 'Link types: %d' % Graph.GetCrossNets()\n",
    "link_num_elem = get_num_elem_per_link(Graph)\n",
    "print '\\n'.join(map(str, link_num_elem.items()))"
   ]
  }
 ],
 "metadata": {
  "kernelspec": {
   "display_name": "Python 2",
   "language": "python",
   "name": "python2"
  },
  "language_info": {
   "codemirror_mode": {
    "name": "ipython",
    "version": 2
   },
   "file_extension": ".py",
   "mimetype": "text/x-python",
   "name": "python",
   "nbconvert_exporter": "python",
   "pygments_lexer": "ipython2",
   "version": "2.7.13"
  }
 },
 "nbformat": 4,
 "nbformat_minor": 1
}
