{
 "cells": [
  {
   "cell_type": "markdown",
   "metadata": {
    "collapsed": true
   },
   "source": [
    "# 09 Giga-Scale Multimodal Biological Network\n",
    "\n",
    "In this and in the following notebook, we provide a detailed look into how to construct very large multimodal networks. We do this by showing how to construct a giga-scale multimodal network of protein interactions for 2,031 species together with evolutionary information on orthologous genes.\n",
    "\n",
    "Primary data sources for the network constructed here are the full [STRING](https://string-db.org/) and the full [GeneMANIA](http://genemania.org/) databases. \n",
    "\n",
    "**Note:** Because datasets in the two databases are several 10s of GBs in size, they cannot be included in this Github repository. \n",
    "\n",
    "**Note:** Users need to first download STRING data files from http://string-db.org/cgi/download.pl to a local machine, and place the files in a directory called `datasets/protein_example/string`. \n",
    "\n",
    "**Note:** Users need to download GeneMANIA data files from http://pages.genemania.org/data (more specifically, http://genemania.org/data/current) to a local machine, and place the files in a directory called `datasets/protein_example/genemania`. \n",
    "\n",
    "Assuming all data files are downloaded and available for analysis, we proceed with the network construction, representation, and analysis.\n",
    "\n",
    "---"
   ]
  },
  {
   "cell_type": "markdown",
   "metadata": {},
   "source": [
    "The figure below shows a conceptual structure of the multimodal network we are about to construct. \n",
    "\n",
    "The network has 2,032 modes, each corresponding to a distinct species and an additional mode for COGs (clusters of orthologous genes) and NOGs (non-supervised orthologous groups). The nodes within each mode represent proteins in the corresponding species. There are edges internal to each species mode representing different types of relationships between proteins (e.g., physical binding, co-ecpression, genetic interaction) in that species. Additionally, the network has edges that connect nodes in a species mode with nodes in the COG mode representing orthologous and paralogous relationships between proteins coming from different species.\n",
    "\n",
    "<img src=\"figures/gigascale-multimodal.png\" width=\"800\">"
   ]
  },
  {
   "cell_type": "markdown",
   "metadata": {},
   "source": [
    "To construct the network we follow the same five steps used in an earlier example on multimodal cancer network. That is, we use the exact same approach to construct, represent, and analyze the network as before, but the resulting network in this example is several orders of magnitude larger. \n",
    "\n",
    "The steps are:\n",
    "- **Step 1**: Parse data\n",
    "- **Step 2**: Create mode tables\n",
    "- **Step 3**: Create link tables\n",
    "- **Step 4**: Construct a multimodal network and save it on a disk\n",
    "- **Step 5**: Load the network and perform analytics"
   ]
  },
  {
   "cell_type": "markdown",
   "metadata": {},
   "source": [
    "# Step 1: Obtain and Parse Data\n",
    "\n",
    "Because the raw data files is very large, the raw data must be obtained directly from the publically available databases as described in the introduction of this notebook.\n",
    "\n",
    "In some cases, the raw data files need to be preprocessed and transformed into an appropriate format. This background step is detailed in notebook [10 Supplementary - Filtering a Giga-Scale Multimodal Biological Network](10 Supplementary - Filtering a Giga-Scale Multimodal Biological Network.ipynb)."
   ]
  },
  {
   "cell_type": "markdown",
   "metadata": {},
   "source": [
    "# Step 2: Create Mode Tables\n",
    "\n",
    "We construct STRING mode tables, one for each species in the STRING database and one additional mode for COGs and NOGs."
   ]
  },
  {
   "cell_type": "code",
   "execution_count": 2,
   "metadata": {},
   "outputs": [],
   "source": [
    "from collections import defaultdict\n",
    "import os\n",
    "import time"
   ]
  },
  {
   "cell_type": "code",
   "execution_count": 1,
   "metadata": {},
   "outputs": [],
   "source": [
    "filename = \"datasets/protein_example/string/STRING_v10/protein.aliases.v10.txt\"\n",
    "cog_filename = \"datasets/protein_example/string/STRING_v10/COG.mappings.v10.txt\"\n",
    "output_dir = \"output\""
   ]
  },
  {
   "cell_type": "markdown",
   "metadata": {},
   "source": [
    "## 2.1 Create Species' Protein Mode Tables\n",
    "\n",
    "We begin by reading STRING data file on protein name aliases and collecting all of protein names associated with each species. "
   ]
  },
  {
   "cell_type": "code",
   "execution_count": null,
   "metadata": {
    "collapsed": true
   },
   "outputs": [],
   "source": [
    "seenTypes = defaultdict(set)\n",
    "prevSpecies = 0\n",
    "with open(filename, 'r') as f:\n",
    "    for line in f:\n",
    "        if line[0] == '#':\n",
    "            continue\n",
    "        splitLine = line.split('\\t')\n",
    "        currSpecies = splitLine[0].split('.')[0]\n",
    "        seenTypes[currSpecies].add(splitLine[0])"
   ]
  },
  {
   "cell_type": "markdown",
   "metadata": {},
   "source": [
    "For each species, we create a mode table for species-specific proteins (i.e., nodes) and save the table to a file."
   ]
  },
  {
   "cell_type": "code",
   "execution_count": null,
   "metadata": {
    "collapsed": true
   },
   "outputs": [],
   "source": [
    "date = time.strftime(\"%Y%m%d\")\n",
    "db_id = 0\n",
    "\n",
    "os.makedirs(os.path.join(output_dir, 'modes'))\n",
    "\n",
    "for species in seenTypes:\n",
    "    outfiletext = '# Full mode table for %s\\n# File generated on: %s\\n# mambo_nid\\tdataset id\\n' % (species, date)\n",
    "    dbfiletext = '# Mode table for dataset: STRING\\n# File generated on: %s\\n# mambo_nid\\tdataset_nid\\n' % date\n",
    "    outfilename = os.path.join(output_dir, 'modes',  'proteingene-%s-%s.tsv' % (species, date))\n",
    "    dbfilename = os.path.join(output_dir, 'modes', 'proteingene-%s-0-STRING-%s.tsv' % (species, date))\n",
    "    \n",
    "    counter = 0\n",
    "    for gene in seenTypes[species]:\n",
    "        outfiletext += '%d\\t%d\\n' % (counter, db_id)\n",
    "        dbfiletext +=  '%d\\t%s\\n' % (counter, gene)\n",
    "        counter += 1\n",
    "    \n",
    "    with open(outfilename, 'w') as outF, open(dbfilename, 'w') as dbF:\n",
    "        outF.write(outfiletext)\n",
    "        dbF.write(dbfiletext)"
   ]
  },
  {
   "cell_type": "markdown",
   "metadata": {},
   "source": [
    "## 2.2 Create COG Mode Tables\n",
    "\n",
    "We read STRING data files on COG information and extract COG names from the files."
   ]
  },
  {
   "cell_type": "code",
   "execution_count": null,
   "metadata": {
    "collapsed": true
   },
   "outputs": [],
   "source": [
    "seenTypes = set()\n",
    "with open(cog_filename, 'r') as f:\n",
    "    for line in f:\n",
    "        if line[0] == '#':\n",
    "            continue\n",
    "        splitLine = line.split('\\t')\n",
    "        seenTypes.add(splitLine[3])"
   ]
  },
  {
   "cell_type": "markdown",
   "metadata": {},
   "source": [
    "We create a mode table for COG names and save the table to a file."
   ]
  },
  {
   "cell_type": "code",
   "execution_count": null,
   "metadata": {
    "collapsed": true
   },
   "outputs": [],
   "source": [
    "counter = 0\n",
    "outfiletext = '# Full mode table for COGs\\n# File generated on: %s\\n# mambo_nid\\tdataset id\\n' % date\n",
    "dbfiletext = '# Mode table for dataset: STRING\\n# File generated on: %s\\n# mambo_nid\\tdataset_nid\\n' % date\n",
    "outfilename = os.path.join(output_dir, 'modes', 'proteingene-COG-%s.tsv' % date)\n",
    "dbfilename = os.path.join(output_dir, 'modes', 'proteingene-COG-0-STRING-%s.tsv' % date)\n",
    "\n",
    "for cog in seenTypes:\n",
    "    outfiletext += '%d\\t%d\\n' % (counter, db_id)\n",
    "    dbfiletext +=  '%d\\t%s\\n' % (counter, cog)\n",
    "    counter += 1\n",
    "    \n",
    "with open(outfilename, 'w') as outF, open(dbfilename, 'w') as dbF:\n",
    "    outF.write(outfiletext)\n",
    "    dbF.write(dbfiletext)"
   ]
  },
  {
   "cell_type": "markdown",
   "metadata": {},
   "source": [
    "# Step 3: Create Link Tables for the Giga-Scale Multimodal network\n",
    "\n",
    "There are three main groups of link types in the giga-scale multimodal network. \n",
    "\n",
    "(1) First, there are COG link types, which go between protein nodes in a given species and the COG nodes.\n",
    "\n",
    "(2) Second, there are link types that specify relationship between proteins in each species. These link types encode protein-protein relationships in a form of 8 distinct relationship variants (as defined by [STRING database](https://string-db.org/)): neighborhood, fusion, cooccurence, homology, coexpression, experiments, database, text mining. \n",
    "\n",
    "(3) Third, there are link types that come from [GeneMANIA database](http://genemania.org/), of which there are six variants. One variant, co-expression, is shared with the STRING database, but other 5 variants are unique to data in GeneMANIA: co-localization, genetic interactions, pathway membership, physical interactions, and predicted interactions."
   ]
  },
  {
   "cell_type": "markdown",
   "metadata": {},
   "source": [
    "We first import relevant Python packages."
   ]
  },
  {
   "cell_type": "code",
   "execution_count": 4,
   "metadata": {},
   "outputs": [],
   "source": [
    "import os\n",
    "\n",
    "from utils.create_mambo_crossnet_table import create_mambo_crossnet_table"
   ]
  },
  {
   "cell_type": "markdown",
   "metadata": {},
   "source": [
    "We specify directories where data files are located."
   ]
  },
  {
   "cell_type": "code",
   "execution_count": null,
   "metadata": {
    "collapsed": true
   },
   "outputs": [],
   "source": [
    "cog_data_dir = \"datasets/protein_example/string/COG\"\n",
    "string_data_dir = \"datasets/protein_example/string\"\n",
    "genemania_data_dir = \"datasets/protein_example/genemania\"\n",
    "mode_data_dir = \"output/modes\"\n",
    "output_dir = \"output\"\n",
    "\n",
    "if not os.path.exists(output_dir):\n",
    "    os.makedirs(output_dir)\n",
    "\n",
    "cog_output_dir = \"output/cog_links\"\n",
    "if not os.path.exists(cog_output_dir):\n",
    "    os.makedirs(cog_output_dir)"
   ]
  },
  {
   "cell_type": "markdown",
   "metadata": {},
   "source": [
    "## 3.1 Create Protein-COG Link Tables\n",
    "\n",
    "For each species, we create a link table between the mode representing the species and the mode representing orthologous groups. \n",
    "\n",
    "These link tables correspond to thick black lines in the figure below.\n",
    "\n",
    "<img src=\"figures/gigascale-multimodal.png\" width=\"800\">"
   ]
  },
  {
   "cell_type": "code",
   "execution_count": null,
   "metadata": {
    "collapsed": true
   },
   "outputs": [],
   "source": [
    "dst_file = os.path.join(mode_data_dir, \"proteingene-COG-0-STRING-20170615.tsv\")\n",
    "for filename in os.listdir(cog_data_dir):\n",
    "    filepath = os.path.join(cog_data_dir, filename)\n",
    "    datasetname = filename.split('-')[2].split('.')[0]\n",
    "    srcfile = os.path.join(mode_data_dir, \"proteingene-%s-0-STRING-20170615.tsv\" % datasetname)\n",
    "                           \n",
    "    create_mambo_crossnet_table(input_file=filepath, \n",
    "                               src_file=srcfile, \n",
    "                               dst_file=dst_file, \n",
    "                               dataset_name=datasetname,\n",
    "                               db_id=0, \n",
    "                               src_node_index=0, \n",
    "                               dst_node_index=1, \n",
    "                               mode_name1=None,\n",
    "                               mode_name2=None, \n",
    "                               output_dir=cog_output_dir, \n",
    "                               full_crossnet_file=None, \n",
    "                               db_edge_file=None,\n",
    "                               src_mode_filter=None, \n",
    "                               dst_mode_filter=None, \n",
    "                               mambo_id_counter_start=0,\n",
    "                               skip_missing_ids=False)"
   ]
  },
  {
   "cell_type": "markdown",
   "metadata": {},
   "source": [
    "## 3.2 Create Protein-Protein Link Tables based on STRING Database\n",
    "\n",
    "We create link tables representing protein-protein interactions available in the STRING database. \n",
    "\n",
    "These link tables correspond to thick curved lines in the figure below.\n",
    "\n",
    "<img src=\"figures/gigascale-multimodal.png\" width=\"800\">"
   ]
  },
  {
   "cell_type": "code",
   "execution_count": null,
   "metadata": {
    "collapsed": true
   },
   "outputs": [],
   "source": [
    "types = [\n",
    "'neighborhood',\n",
    "'fusion',\n",
    "'cooccurence',\n",
    "'coexpression',\n",
    "'experiments',\n",
    "'database',\n",
    "'textmining',\n",
    "'combined_score',\n",
    "]\n",
    "\n",
    "for t in types:\n",
    "    type_dir = os.path.join(string_data_dir, t)\n",
    "    type_output_dir = os.path.join(output_dir, t + '_links')\n",
    "    os.makedirs(type_output_dir)\n",
    "    \n",
    "    for filename in os.listdir(type_dir):\n",
    "        filepath = os.path.join(type_dir, filename)\n",
    "        datasetname = filename.split('-')[1].split('.')[0]\n",
    "        srcfile = os.path.join(mode_data_dir, \"proteingene-%s-0-STRING-20170615.tsv\" % datasetname)\n",
    "        \n",
    "        create_mambo_crossnet_table(input_file=filepath, \n",
    "                           src_file=srcfile, \n",
    "                           dst_file=srcfile,\n",
    "                           dataset_name=datasetname,\n",
    "                           db_id=0, \n",
    "                           src_node_index=0, \n",
    "                           dst_node_index=1, \n",
    "                           mode_name1=\"proteingene\",\n",
    "                           mode_name2=\"proteingene\", \n",
    "                           output_dir=type_output_dir, \n",
    "                           full_crossnet_file=None, \n",
    "                           db_edge_file=None,\n",
    "                           src_mode_filter=None, \n",
    "                           dst_mode_filter=None, \n",
    "                           mambo_id_counter_start=0,\n",
    "                           skip_missing_ids=False)"
   ]
  },
  {
   "cell_type": "markdown",
   "metadata": {},
   "source": [
    "## 3.3 Create Protein-Protein Link Tables based on GeneMANIA Database\n",
    "\n",
    "We create link tables representing protein-protein interactions available in the GeneMANIA database. \n",
    "\n",
    "These link tables correspond to thick curved lines in the figure below. \n",
    "\n",
    "*Note:* GeneMANIA does not have any information on links *between* species. Links between species are exclusively provided by the Protein-COG links that we created first.\n",
    "\n",
    "<img src=\"figures/gigascale-multimodal-2.png\" width=\"400\">"
   ]
  },
  {
   "cell_type": "code",
   "execution_count": null,
   "metadata": {
    "collapsed": true
   },
   "outputs": [],
   "source": [
    "types = [\"Co-expression\", \"Co-localization\", \"Genetic_interactions\", \n",
    "         \"Pathway\", \"Physical_interactions\", \"Predicted\"]\n",
    "\n",
    "dirname = {\"Co-localization\" : \"colocalization_crossnet\", \n",
    "           \"Co-expression\" : \"coexpression_crossnet\",\n",
    "           \"Genetic_interactions\" : \"genetic_interactions_crossnet\",\n",
    "           \"Pathway\": \"pathway_crossnet\",\n",
    "           \"Physical_interactions\" : \"physical_interactions_crossnet\",\n",
    "           \"Predicted\" : \"predicted_crossnet\"}\n",
    "\n",
    "species = [\"Arabidopsis_thaliana\", \"Caenorhabditis_elegans\", \"Danio_rerio\", \n",
    "           \"Drosophila_melanogaster\", \"Escherichia_coli\", \"Homo_sapiens\",\n",
    "           \"Mus_musculus\", \"Rattus_norvegicus\", \"Saccharomyces_cerevisiae\"]\n",
    "\n",
    "for d in dirname.values():\n",
    "    if not os.path.exists(d):\n",
    "        os.makedirs(d)\n",
    "\n",
    "for s in species:\n",
    "    species_directory = os.path.join(genemania_data_dir, s)\n",
    "    typecount = {\"Co-localization\" : 0, \n",
    "                 \"Co-expression\" : 0,\n",
    "                 \"Genetic_interactions\" : 0,\n",
    "                 \"Pathway\" : 0,\n",
    "                 \"Physical_interactions\" : 0,\n",
    "                 \"Predicted\" : 0}\n",
    "    \n",
    "    for filename in os.listdir(species_directory):\n",
    "        if any(typename in filename for typename in types):\n",
    "            filename = filename.replace(\"'\", \"\\\\'\")\n",
    "            filepath = os.path.join(directory, filename)\n",
    "            datasetname = filename.split('.')[1]\n",
    "            filetype = filename.split('.')[0]\n",
    "            srcfile = os.path.join(mode_data_dir, \"proteingene-%s-1-GENEMANIA-20170523.tsv\" % datasetname)\n",
    "            type_output_dir = os.makedirs(os.path.join(output_dir, dirname[filetype]))\n",
    "            \n",
    "            create_mambo_crossnet_table(input_file=filepath, \n",
    "                    src_file=srcfile, \n",
    "                   dst_file=srcfile,\n",
    "                   dataset_name=datasetname,\n",
    "                   db_id=typecount[filetype], \n",
    "                   src_node_index=0, \n",
    "                   dst_node_index=1, \n",
    "                   mode_name1=None,\n",
    "                   mode_name2=None, \n",
    "                   output_dir=type_output_dir, \n",
    "                   full_crossnet_file=None, \n",
    "                   db_edge_file=None,\n",
    "                   src_mode_filter=None, \n",
    "                   dst_mode_filter=None, \n",
    "                   mambo_id_counter_start=0,\n",
    "                   skip_missing_ids=False)\n",
    "            typecount[filetype] += 1"
   ]
  },
  {
   "cell_type": "markdown",
   "metadata": {},
   "source": [
    "# Step 4: Construct the Giga-Scale Multimodal Network\n",
    "\n",
    "Next, we show how to put together all mode and link tables we have just created in order to construct a network."
   ]
  },
  {
   "cell_type": "markdown",
   "metadata": {},
   "source": [
    "We start by importing the required packages."
   ]
  },
  {
   "cell_type": "code",
   "execution_count": 5,
   "metadata": {},
   "outputs": [],
   "source": [
    "import os\n",
    "\n",
    "import snap\n",
    "from utils.network_utils import load_mode_to_graph, load_crossnet_to_graph"
   ]
  },
  {
   "cell_type": "code",
   "execution_count": null,
   "metadata": {
    "collapsed": true
   },
   "outputs": [],
   "source": [
    "mode_data_dir = \"output/modes\"\n",
    "cog_cross_dir = \"output/cog_links\"\n",
    "cross_base_dir = \"output\"\n",
    "\n",
    "output_dir = \"output\"\n",
    "graph_name = \"protein_example.graph\""
   ]
  },
  {
   "cell_type": "markdown",
   "metadata": {},
   "source": [
    "## 4.1 Build the Multimodal Network\n",
    "\n",
    "Start by creating an empty multimodal network."
   ]
  },
  {
   "cell_type": "code",
   "execution_count": null,
   "metadata": {
    "collapsed": true
   },
   "outputs": [],
   "source": [
    "context = snap.TTableContext()\n",
    "Graph = snap.TMMNet.New()"
   ]
  },
  {
   "cell_type": "markdown",
   "metadata": {},
   "source": [
    "#### Load modes\n",
    "\n",
    "Add all modes to the network. "
   ]
  },
  {
   "cell_type": "code",
   "execution_count": null,
   "metadata": {
    "collapsed": true
   },
   "outputs": [],
   "source": [
    "for f in os.listdir(mode_data_dir):\n",
    "    splitName = f.split('-')\n",
    "    if len(splitName) == 3:\n",
    "        filepath = os.path.join(mode_data_dir, f)\n",
    "        load_mode_to_graph(splitName[1], filepath, Graph, context)"
   ]
  },
  {
   "cell_type": "markdown",
   "metadata": {},
   "source": [
    "#### Load Protein-COG link tables\n",
    "\n",
    "Add all link types to the network. "
   ]
  },
  {
   "cell_type": "code",
   "execution_count": null,
   "metadata": {
    "collapsed": true
   },
   "outputs": [],
   "source": [
    "for f in os.listdir(cog_cross_dir):\n",
    "    splitName = f.split('-')\n",
    "    if len(splitName) == 4:\n",
    "        edgeId = \"Cog%sId\" % splitName[1]\n",
    "        srcName = splitName[1]\n",
    "        dstName = \"COG\"\n",
    "        filepath = os.path.join(cog_cross_dir, f)\n",
    "        load_crossnet_to_graph(context, edgeId, srcName, dstName, filepath, Graph, prefix=\"COG\")"
   ]
  },
  {
   "cell_type": "markdown",
   "metadata": {},
   "source": [
    "#### Load the remaining link types representing protein-protein interactions within each species mode"
   ]
  },
  {
   "cell_type": "code",
   "execution_count": null,
   "metadata": {
    "collapsed": true
   },
   "outputs": [],
   "source": [
    "types = [\n",
    "'neighborhood',\n",
    "'fusion',\n",
    "'cooccurence',\n",
    "'homology',\n",
    "'coexpression', \n",
    "'experiments',\n",
    "'database',\n",
    "'textmining',\n",
    "]\n",
    "\n",
    "for t in types:\n",
    "    directory = os.path.join(cross_base_dir, t + '_links')\n",
    "    for f in os.listdir(directory):\n",
    "        splitName = f.split('-')\n",
    "        if len(splitName) == 4:\n",
    "            edgeId = splitName[1] + '-' + splitName[1] + 'Id'\n",
    "            srcName = splitName[1]\n",
    "            dstName = splitName[1]\n",
    "            filepath = os.path.join(directory, f)\n",
    "            load_crossnet_to_graph(context, edgeId, srcName, dstName, filepath, Graph, prefix=t)"
   ]
  },
  {
   "cell_type": "markdown",
   "metadata": {},
   "source": [
    "#### Save the multimodal network to a disk for later use"
   ]
  },
  {
   "cell_type": "code",
   "execution_count": null,
   "metadata": {
    "collapsed": true
   },
   "outputs": [],
   "source": [
    "outputPath = os.path.join(output_dir, graph_name)\n",
    "FOut = snap.TFOut(outputPath)\n",
    "Graph.Save(FOut)\n",
    "FOut.Flush()"
   ]
  },
  {
   "cell_type": "markdown",
   "metadata": {},
   "source": [
    "# Step 5: Load the Giga-Scale Multimodal Network and Perform Analytics\n",
    "\n",
    "Let us import relevant packages."
   ]
  },
  {
   "cell_type": "code",
   "execution_count": 8,
   "metadata": {},
   "outputs": [],
   "source": [
    "import snap\n",
    "\n",
    "from utils.network_utils import get_num_elem_per_mode, get_num_elem_per_link"
   ]
  },
  {
   "cell_type": "markdown",
   "metadata": {},
   "source": [
    "## 5.1 Load the Giga-Scale Multimodal Network\n",
    "\n",
    "We describe how the multimodal network can be loaded from a disk."
   ]
  },
  {
   "cell_type": "code",
   "execution_count": 7,
   "metadata": {},
   "outputs": [],
   "source": [
    "filename = \"output/protein_example.graph\"\n",
    "FIn = snap.TFIn(filename)\n",
    "Graph = snap.TMMNet.Load(FIn)"
   ]
  },
  {
   "cell_type": "markdown",
   "metadata": {},
   "source": [
    "To make sure the network has been loaded correctly, let us determine the number of modes and the number of entities for each mode."
   ]
  },
  {
   "cell_type": "code",
   "execution_count": null,
   "metadata": {
    "collapsed": true
   },
   "outputs": [],
   "source": [
    "print 'Modes: %d' % Graph.GetModeNets()\n",
    "\n",
    "mode_num_elem = get_num_elem_per_mode(Graph)\n",
    "\n",
    "# there are many modes, print information for `num_to_display` number of modes\n",
    "num_to_display = 10\n",
    "items = [(k, mode_num_elem[k]) for k in sorted(mode_num_elem.keys())[:10]]\n",
    "print items"
   ]
  },
  {
   "cell_type": "markdown",
   "metadata": {},
   "source": [
    "Let us also determine the number of link types and the number of edges for each link type."
   ]
  },
  {
   "cell_type": "code",
   "execution_count": null,
   "metadata": {
    "collapsed": true
   },
   "outputs": [],
   "source": [
    "print 'Link types: %d' % Graph.GetCrossNets()\n",
    "\n",
    "link_num_elem = get_num_elem_per_link(Graph)\n",
    "\n",
    "# there are many link types, print information for every `display_every` link type\n",
    "display_every = 200\n",
    "items = [(k, link_num_elem[k]) for k in sorted(link_num_elem.keys())[::display_every]]\n",
    "print '\\n'.join('{} = {}'.format(*link) for link in items)"
   ]
  },
  {
   "cell_type": "markdown",
   "metadata": {},
   "source": [
    "## 5.2 Perform Analytics\n",
    "\n",
    "We convert the network to a directed graph and perform analytics. \n",
    "\n",
    "*Note:* The network can be analyzed as a directed graph ([TNGraph](https://snap.stanford.edu/snappy/doc/reference/graphs.html#TNGraph)), undirected graph ([TUNGraph](https://snap.stanford.edu/snappy/doc/reference/graphs.html#tungraph)), or attributed graph ([PNEANet](https://snap.stanford.edu/snappy/doc/tutorial/tutorial.html#snap-types-in-snap-py))."
   ]
  },
  {
   "cell_type": "code",
   "execution_count": 9,
   "metadata": {},
   "outputs": [],
   "source": [
    "import snap\n",
    "import time\n",
    "\n",
    "from utils.network_utils import get_num_elem_per_mode"
   ]
  },
  {
   "cell_type": "markdown",
   "metadata": {},
   "source": [
    "We load the network from a file."
   ]
  },
  {
   "cell_type": "code",
   "execution_count": null,
   "metadata": {
    "collapsed": true
   },
   "outputs": [],
   "source": [
    "filename = \"output/protein_example.graph\"\n",
    "FIn = snap.TFIn(filename)\n",
    "Graph = snap.TMMNet.Load(FIn)"
   ]
  },
  {
   "cell_type": "markdown",
   "metadata": {},
   "source": [
    "#### Print the number of modes and links to check the network is loaded correctly"
   ]
  },
  {
   "cell_type": "code",
   "execution_count": null,
   "metadata": {
    "collapsed": true
   },
   "outputs": [],
   "source": [
    "print 'Modes: %d' % Graph.GetModeNets()\n",
    "print 'Link types: %d' % Graph.GetCrossNets()"
   ]
  },
  {
   "cell_type": "markdown",
   "metadata": {},
   "source": [
    "#### Convert the network to a directed network"
   ]
  },
  {
   "cell_type": "code",
   "execution_count": null,
   "metadata": {
    "collapsed": true
   },
   "outputs": [],
   "source": [
    "crossnetids = snap.TIntV()\n",
    "crossneti = Graph.BegCrossNetI()\n",
    "while crossneti < Graph.EndCrossNetI():\n",
    "    crossnetids.Add(crossneti.GetCrossId())\n",
    "        \n",
    "nodeattrmapping = snap.TIntStrStrTrV()\n",
    "edgeattrmapping = snap.TIntStrStrTrV()\n",
    "    \n",
    "start_time = time.time()\n",
    "DirectedNetwork = Graph.ToNetwork(crossnetids, nodeattrmapping, edgeattrmapping)\n",
    "end_time = time.time()\n",
    "print \"Conversion to TNEANet takes %s seconds\" % (end_time - start_time)"
   ]
  },
  {
   "cell_type": "markdown",
   "metadata": {},
   "source": [
    "#### Compute and display network statistics"
   ]
  },
  {
   "cell_type": "code",
   "execution_count": null,
   "metadata": {
    "collapsed": true
   },
   "outputs": [],
   "source": [
    "snap.PrintInfo(DirectedNetwork, \"Python type PNEANet\", \"output/output.txt\", True)"
   ]
  },
  {
   "cell_type": "code",
   "execution_count": null,
   "metadata": {},
   "outputs": [],
   "source": [
    "map(lambda x: x.replace(\"\\n\", \"\"), open(\"output/output.txt\").readlines())"
   ]
  },
  {
   "cell_type": "markdown",
   "metadata": {},
   "source": [
    "#### Calculate network diameter"
   ]
  },
  {
   "cell_type": "code",
   "execution_count": null,
   "metadata": {
    "collapsed": true
   },
   "outputs": [],
   "source": [
    "print \"Diameter: %d\" % snap.GetBfsFullDiam(DirectedNetwork, 10)"
   ]
  },
  {
   "cell_type": "markdown",
   "metadata": {},
   "source": [
    "#### Calculate size distribution of weakly connected components"
   ]
  },
  {
   "cell_type": "code",
   "execution_count": null,
   "metadata": {
    "collapsed": true
   },
   "outputs": [],
   "source": [
    "CntV = snap.TIntPrV()\n",
    "snap.GetWccSzCnt(DirectedNetwork, CntV)\n",
    "sizestring = \"\"\n",
    "for p in CntV:\n",
    "    sizestring += \"%d\\t%d\\n\" % (p.GetVal1(), p.GetVal2())\n",
    "print sizestring"
   ]
  }
 ],
 "metadata": {
  "kernelspec": {
   "display_name": "Python 2",
   "language": "python",
   "name": "python2"
  },
  "language_info": {
   "codemirror_mode": {
    "name": "ipython",
    "version": 2
   },
   "file_extension": ".py",
   "mimetype": "text/x-python",
   "name": "python",
   "nbconvert_exporter": "python",
   "pygments_lexer": "ipython2",
   "version": "2.7.13"
  }
 },
 "nbformat": 4,
 "nbformat_minor": 1
}
