{
 "cells": [
  {
   "cell_type": "markdown",
   "metadata": {
    "collapsed": true
   },
   "source": [
    "# 03 Workflow for Constructing a Multimodal Cancer Network\n",
    "\n",
    "In this and the following notebooks (04, 05, 06, 07, and 08), we provide a detailed look into how to construct multimodal networks. All data required for this tutorial can be found in the `datasets/cancer_example` directory of [this repository](https://github.com/snap-stanford/mambo). The data should have been downloaded automatically if this github repository was cloned. \n",
    "\n",
    "In this workflow, we construct a **multimodal cancer network** centered around genes that are frequently mutated in cancer patients. \n",
    "\n",
    "The multimodal cancer network has 5 modes:\n",
    "\n",
    "<center>**Chemical, Disease, Function, Gene,** and **Protein.**</center>\n",
    "\n",
    "The network has 11 link types: \n",
    "\n",
    "<center>**Chemical-Chemical, Chemical-Protein, Disease-Chemical, Disease-Disease, Disease-Function, Disease-Gene, Function-Function, Gene-Gene, Gene-Protein, Protein-Function,** and **Protein-Protein.**</center> \n",
    "\n",
    "This network was originally constructed by taking a much larger network and selecting a sub-network based around protien-coding genes with mutations in the largest number of patients according to data provided by the International Cancer Genome Consortium (ICGC). We begin with the top 500 genes out of the total 20,326 protein-coding genes provided by the ICGC data portal, and then include all nodes in other modes (excluding genes) that are within one-hop in the large network. As a note, Mambo can handle networks that are orders of magnitude larger that the multimodal cancer network analyzed here, a feat explained in [09 Giga-Scale Multimodal Biological Network Case Study](09 Giga-Scale Multimodal Biological Network Case Study.ipynb).\n",
    "\n",
    "## Step 1: Parse Data\n",
    "\n",
    "Some minimal amount of data preprocessing may be necessary depending on the dataset. We need edges in a tsv (tab-separated value) format. If edges are provded in a different format, like JSON or XML, the relationships may need to be parsed accordingly. In this example, all of the data has already been processed. \n",
    "\n",
    "In a later example on the giga-scale multimodal network, we use raw data from several knowledge databases. In that example, we describe in greater detail how to preprocess data, including things like filtering rows that have non-zero values for our relationship types of interest. See [10 Supplementary - Data Filtering in the Giga-Scale Multimodal Biological Network.ipynb](10 Supplementary - Data Filtering in the Giga-Scale Multimodal Biological Network.ipynb) for an example of how this is done.\n",
    "\n",
    "## Step 2: Create Mode Tables\n",
    "\n",
    "See [04 Creating Mode Tables](04 Creating Mode Tables.ipynb) for an example on how to the create mode tables.\n",
    "\n",
    "## Step 3: Create Link Tables\n",
    "\n",
    "See [05 Creating Link Tables](05 Creating Link Tables.ipynb) for an example on how to create link tables. \n",
    "\n",
    "## Step 4: Construct the Multimodal Network from Mode and Link Tables\n",
    "\n",
    "See [06 Constructing a Multimodal Network from Mode and Link Tables](06 Constructing a Multimodal Network from Mode and Link Tables.ipynb) for an example on how to create a multimodal network based on previously constructed mode and link tables.\n",
    "\n",
    "## Step 5: Load a Multimodal Network and Perform Analytics\n",
    "\n",
    "See [07 Loading a Multimodal Network](07 Loading a Multimodal Network.ipynb) for an example on how to load tables from the disk. See [08 Performing Analytics on the Multimodal Network](08 Performing Analytics on the Multimodal Network.ipynb) for an example on performing analytics."
   ]
  }
 ],
 "metadata": {
  "anaconda-cloud": {},
  "kernelspec": {
   "display_name": "Python 2",
   "language": "python",
   "name": "python2"
  },
  "language_info": {
   "codemirror_mode": {
    "name": "ipython",
    "version": 2
   },
   "file_extension": ".py",
   "mimetype": "text/x-python",
   "name": "python",
   "nbconvert_exporter": "python",
   "pygments_lexer": "ipython2",
   "version": "2.7.13"
  }
 },
 "nbformat": 4,
 "nbformat_minor": 1
}
