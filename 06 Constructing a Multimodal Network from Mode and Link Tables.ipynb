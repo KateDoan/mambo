{
 "cells": [
  {
   "cell_type": "markdown",
   "metadata": {
    "collapsed": true
   },
   "source": [
    "# 06 Constructing a Multimodal Cancer Network\n",
    "\n",
    "In this notebook we show how to put together the mode and link tables that we constructed in the previous two notebooks ([04 Creating Mode Tables](04 Creating Mode Tables.ipynb), and [05 Creating Link Tables](05 Creating Link Tables.ipynb)) in order to build a multimodal cancer network.\n",
    "\n",
    "## Step 0: Setup\n",
    "\n",
    "We start by importing the required package and creating the output directory if it does not yet exist."
   ]
  },
  {
   "cell_type": "code",
   "execution_count": 1,
   "metadata": {},
   "outputs": [],
   "source": [
    "import snap\n",
    "import os\n",
    "import datetime\n",
    "\n",
    "from utils.network_utils import load_mode_to_graph, load_crossnet_to_graph\n",
    "\n",
    "today = datetime.date.today()\n",
    "datestring = \"%s%s%s\" % (today.year, today.month, today.day)"
   ]
  },
  {
   "cell_type": "markdown",
   "metadata": {},
   "source": [
    "## Step 1: Create an Empty Multimodal Network\n",
    "\n",
    "First, we create an empty multimodal network. We proceed by adding modes and link types in the network."
   ]
  },
  {
   "cell_type": "code",
   "execution_count": 2,
   "metadata": {},
   "outputs": [],
   "source": [
    "context = snap.TTableContext()\n",
    "# Graph object to hold multimodal cancer network\n",
    "Graph = snap.TMMNet.New()"
   ]
  },
  {
   "cell_type": "markdown",
   "metadata": {},
   "source": [
    "Multimodal network in Mambo is represented by an object of type [``snap.TMMNet``](https://snap.stanford.edu/snappy/doc/reference/multimodal.html#tmmnet). \n",
    "\n",
    "Object ``snap.TMMNet`` consists of modes, which are objects of type ``snap.TModeNet``, and links between modes, which are objects of type ``snap.TCrossNet``.\n",
    "\n",
    "See [Reference manual](https://snap.stanford.edu/snappy/doc/reference/multimodal.html) for details."
   ]
  },
  {
   "cell_type": "markdown",
   "metadata": {},
   "source": [
    "## Step 2: Specify and Load Network Modes\n",
    "\n",
    "Add all modes to the multimodal network. \n",
    "\n",
    "Note that mode tables for the multimodal cancer network were constructed in notebook [04 Creating Mode Tables](04 Creating Mode Tables.ipynb)."
   ]
  },
  {
   "cell_type": "code",
   "execution_count": 3,
   "metadata": {},
   "outputs": [],
   "source": [
    "mode_table_filenames = [\n",
    "    \"datasets/cancer_example/chemical/miner-chemical-%s.tsv\" % datestring,\n",
    "    \"datasets/cancer_example/disease/miner-disease-%s.tsv\" % datestring,\n",
    "    \"datasets/cancer_example/function/miner-function-%s.tsv\" % datestring,\n",
    "    \"datasets/cancer_example/gene/miner-gene-%s.tsv\" % datestring,\n",
    "    \"datasets/cancer_example/protein/miner-protein-%s.tsv\" % datestring,\n",
    "]\n",
    "for mode_table in mode_table_filenames:\n",
    "    splitName = mode_table.split('-')\n",
    "    load_mode_to_graph(splitName[1], mode_table, Graph, context)"
   ]
  },
  {
   "cell_type": "markdown",
   "metadata": {},
   "source": [
    "## Step 3: Specify and Load Link Types\n",
    "\n",
    "Add all link types to the multimodal network. \n",
    "\n",
    "Note that link tables for the multimodal cancer network were constructed in notebook [05 Creating Link Tables](05 Creating Link Tables.ipynb).\n",
    "\n",
    "#### 3.1) Load all link types excluding gene-gene interactions and protein-protein interactions\n",
    "\n",
    "We load all of the link types, excluding gene-gene interactions and protein-protein interactions. This is because there are many different types of protein-protein and gene-gene interactions. Technically, these different types of interactions between genes or proteins are taken into account by splitting gene-gene and protein-protein interactions into several link types. We handle gene-gene interactions and protein-protein interactions in the following part."
   ]
  },
  {
   "cell_type": "code",
   "execution_count": 4,
   "metadata": {},
   "outputs": [],
   "source": [
    "link_table_filenames = [\n",
    "    \"datasets/cancer_example/chemical-chemical/miner-chemical-chemical-%s.tsv\" % datestring,\n",
    "    \"datasets/cancer_example/chemical-protein/miner-chemical-protein-%s.tsv\" % datestring,\n",
    "    \"datasets/cancer_example/disease-chemical/miner-disease-chemical-%s.tsv\" % datestring,\n",
    "    \"datasets/cancer_example/disease-disease/miner-disease-disease-%s.tsv\" % datestring,\n",
    "    \"datasets/cancer_example/disease-function/miner-disease-function-%s.tsv\" % datestring,\n",
    "    \"datasets/cancer_example/disease-protein/miner-disease-protein-%s.tsv\" % datestring,\n",
    "    \"datasets/cancer_example/function-function/miner-function-function-%s.tsv\" % datestring,\n",
    "    \"datasets/cancer_example/gene-protein/miner-gene-protein-%s.tsv\" % datestring,\n",
    "    \"datasets/cancer_example/protein-function/miner-protein-function-%s.tsv\" % datestring,\n",
    "]\n",
    "\n",
    "for link_table in link_table_filenames:\n",
    "    link_table_name = os.path.basename(link_table)\n",
    "    splitName = link_table_name.split('-')\n",
    "    crossnetName = splitName[1] + \"-\" + splitName[2] + \"-\" + 'id'\n",
    "    srcModeName = splitName[1]\n",
    "    dstModeName = splitName[2]\n",
    "    load_crossnet_to_graph(context, crossnetName, srcModeName, dstModeName, link_table, Graph)"
   ]
  },
  {
   "cell_type": "markdown",
   "metadata": {},
   "source": [
    "#### 3.2) Load gene-gene interaction link types\n",
    "\n",
    "Within gene-gene interactions, there are 6 different link types corresponding to different relationships between genes: co-expression, co-localization, genetic interactions, pathway co-membership, physical interactions, and predicted interactions. We load each of these link types separately."
   ]
  },
  {
   "cell_type": "code",
   "execution_count": 5,
   "metadata": {},
   "outputs": [],
   "source": [
    "types = [\n",
    "'coexpression', \n",
    "'colocalization',\n",
    "'genetic_interactions',\n",
    "'pathway',\n",
    "'physical_interactions',\n",
    "'predicted',\n",
    "]\n",
    "\n",
    "for typ in types:\n",
    "    link_table = \"datasets/cancer_example/gene-gene/%s_links/miner-gene-gene-%s.tsv\" % (typ, datestring)\n",
    "    link_table_name = os.path.basename(link_table)\n",
    "    splitName = link_table_name.split('-')    \n",
    "    crossnetName = splitName[1] + '-' + splitName[2] + \"-\" + 'id'\n",
    "    srcModeName = splitName[1]\n",
    "    dstModeName = splitName[2]\n",
    "    load_crossnet_to_graph(context, crossnetName, srcModeName, dstModeName, link_table, Graph, prefix=typ)"
   ]
  },
  {
   "cell_type": "markdown",
   "metadata": {},
   "source": [
    "#### 3.3) Load protein-protein interaction link types\n",
    "\n",
    "Within protein-protein interactions, there are 7 different link types corresponding to different relationship between proteins: co-expression, co-occurence, database evidence, experimental support, gene fusion, neighborhood on the genome, and text-mining. \n",
    "\n",
    "Note that these link types indicate different types of biological association, like co-expression, whereas other link types indicate approaach through which the information was collected, like experimental evidence and text-mining."
   ]
  },
  {
   "cell_type": "code",
   "execution_count": 6,
   "metadata": {},
   "outputs": [],
   "source": [
    "types = [\n",
    "'coexpression', \n",
    "'cooccurence',\n",
    "'database',\n",
    "'experimental',\n",
    "'neighborhood',\n",
    "'textmining',\n",
    "]\n",
    "\n",
    "for typ in types:\n",
    "    link_table = \"datasets/cancer_example/protein-protein/%s_links/miner-protein-protein-%s.tsv\" % (typ, datestring)\n",
    "    link_table_name = os.path.basename(link_table)\n",
    "    splitName = link_table_name.split('-')    \n",
    "    cossnetName = splitName[1] + '-' + splitName[2] + \"-\" + 'id'\n",
    "    srcModeName = splitName[1]\n",
    "    dstModeName = splitName[2]\n",
    "    load_crossnet_to_graph(context, crossnetName, srcModeName, dstModeName, link_table, Graph, prefix=typ)"
   ]
  },
  {
   "cell_type": "markdown",
   "metadata": {},
   "source": [
    "## Step 4: Save Multimodal Network to a Disk\n",
    "\n",
    "After the network has been constructed, we save the network to disk. \n",
    "\n",
    "This way the network can be loaded back into memoery very quickly and can be used again for downstream aanalysis without reconstructing the network from scratch. This property is especially appealing when dealing with very large networks (e.g., [09 Giga-Scale Multimodal Biological Network](09 Giga-Scale Multimodal Biological Network.ipynb))."
   ]
  },
  {
   "cell_type": "code",
   "execution_count": 7,
   "metadata": {},
   "outputs": [],
   "source": [
    "output_dir = \"output/cancer_example\"\n",
    "if not os.path.exists(output_dir):\n",
    "    os.makedirs(output_dir)"
   ]
  },
  {
   "cell_type": "code",
   "execution_count": 8,
   "metadata": {},
   "outputs": [
    {
     "name": "stdout",
     "output_type": "stream",
     "text": [
      "Saved in: output/cancer_example/cancer_example.graph\n"
     ]
    }
   ],
   "source": [
    "graph_name = \"cancer_example.graph\"\n",
    "outputPath = os.path.join(output_dir, graph_name)\n",
    "\n",
    "print \"Saved in: %s\" % outputPath\n",
    "FOut = snap.TFOut(outputPath)\n",
    "Graph.Save(FOut)\n",
    "FOut.Flush()"
   ]
  }
 ],
 "metadata": {
  "anaconda-cloud": {},
  "kernelspec": {
   "display_name": "Python 2",
   "language": "python",
   "name": "python2"
  },
  "language_info": {
   "codemirror_mode": {
    "name": "ipython",
    "version": 2
   },
   "file_extension": ".py",
   "mimetype": "text/x-python",
   "name": "python",
   "nbconvert_exporter": "python",
   "pygments_lexer": "ipython2",
   "version": "2.7.13"
  }
 },
 "nbformat": 4,
 "nbformat_minor": 1
}
